{
 "cells": [
  {
   "cell_type": "code",
   "execution_count": 30,
   "metadata": {
    "collapsed": true
   },
   "outputs": [],
   "source": [
    "import numpy as np\n",
    "\n",
    "classmates = ['Alexander','Bryan','Cindy','Crystal','DanielG','DanielT','Eric','Everett','Harry','John','Justin','Miles','Monika','Srikanth','Swathi','Tetyana','Timothy','Yeongcheon']\n",
    "\n",
    "def pairs(classmates, day=1):\n",
    "    classmates.sort()\n",
    "    if day > 4:\n",
    "        day += 1\n",
    "    for ind, value in enumerate(classmates):\n",
    "        if ind%2==False and day*2 <= len(classmates):\n",
    "            print value + ' *PAIR* ' + classmates[(ind-1+day*2)%len(classmates)]\n",
    "        elif ind*2 < len(classmates) and day*2 > len(classmates) and day-10%len(classmates)!=(ind+day%10)%len(classmates): \n",
    "            print classmates[(ind+day%10)%len(classmates)] + ' *PAIR* ' + classmates[(len(classmates)-ind+day%10)%len(classmates)]\n",
    "        elif day-10%len(classmates)==(ind+day%10)%len(classmates):\n",
    "            print classmates[(ind+day%10)%len(classmates)] + ' *PAIR* ' + classmates[(ind+9+day%10)%len(classmates)] "
   ]
  },
  {
   "cell_type": "code",
   "execution_count": 31,
   "metadata": {
    "collapsed": false
   },
   "outputs": [
    {
     "name": "stdout",
     "output_type": "stream",
     "text": [
      "Cindy *PAIR* Miles\n",
      "Crystal *PAIR* Bryan\n",
      "DanielG *PAIR* Alexander\n",
      "DanielT *PAIR* Yeongcheon\n",
      "Eric *PAIR* Timothy\n",
      "Everett *PAIR* Tetyana\n",
      "Harry *PAIR* Swathi\n",
      "John *PAIR* Srikanth\n",
      "Justin *PAIR* Monika\n"
     ]
    }
   ],
   "source": [
    "pairs(classmates, 11)"
   ]
  },
  {
   "cell_type": "code",
   "execution_count": 32,
   "metadata": {
    "collapsed": false
   },
   "outputs": [],
   "source": [
    "def cpairs(classmates, day):\n",
    "    classmates.sort()\n",
    "    n = len(classmates)\n",
    "    mask = np.ones(n, dtype=bool)\n",
    "    \n",
    "    if day <= n/4:\n",
    "        for i in xrange(n):\n",
    "            if mask[i]:\n",
    "                if i%2 == 0:\n",
    "                    print classmates[i] + ', ' + classmates[(i-1+day*2)%n]\n",
    "                    mask[i], mask[(i-1+day*2)%n] = 0, 0\n",
    "                else:\n",
    "                    print classmates[i] + ', ' + classmates[(i+1-day*2)%n]\n",
    "                    mask[i], mask[(i+1-day*2)%n] = 0, 0\n",
    "\n",
    "    elif day > n/4 and day < n/2:\n",
    "        for i in xrange(n):\n",
    "            if mask[i]:\n",
    "                if i%2 == 0:\n",
    "                    print classmates[i] + ', ' + classmates[(i+1+day*2)%n]\n",
    "                    mask[i], mask[(i-1+day*2)%n] = 0, 0\n",
    "                else:\n",
    "                    print classmates[i] + ', ' + classmates[(i-1-day*2)%n]\n",
    "                    mask[i], mask[(i+1-day*2)%n] = 0, 0\n",
    "    \n",
    "    elif day >= n/2:\n",
    "        head = day - n/2\n",
    "        print classmates[head] + ', ' + classmates[head+(n/2)]\n",
    "        mask[head], mask[head+(n/2)] = 0, 0\n",
    "        for i in xrange(n):\n",
    "            if mask[i] and mask[(2*head+n-i)%n]:\n",
    "                print classmates[i] + ', ' + classmates[(2*head+n-i)%n]\n",
    "                mask[i], mask[(2*head+n-i)%n] = 0, 0\n",
    "                i += 1"
   ]
  },
  {
   "cell_type": "code",
   "execution_count": 25,
   "metadata": {
    "collapsed": true
   },
   "outputs": [],
   "source": [
    "classmates = ['Alexander','Bryan','Cindy','Crystal','Daniel G','Daniel T','Eric','Everett','Harry','John','Justin','Miles','Monika','Srikanth','Swathi','Tetyana','Timothy','Yeongcheon']\n"
   ]
  },
  {
   "cell_type": "code",
   "execution_count": 37,
   "metadata": {
    "collapsed": false
   },
   "outputs": [
    {
     "name": "stdout",
     "output_type": "stream",
     "text": [
      "Alexander, Daniel T\n",
      "Bryan, Swathi\n",
      "Cindy, Everett\n",
      "Crystal, Timothy\n",
      "Daniel G, John\n",
      "Eric, Miles\n",
      "Harry, Srikanth\n",
      "Justin, Tetyana\n",
      "Monika, Yeongcheon\n"
     ]
    }
   ],
   "source": [
    "cpairs(classmates, 3)"
   ]
  },
  {
   "cell_type": "code",
   "execution_count": 33,
   "metadata": {
    "collapsed": false
   },
   "outputs": [
    {
     "name": "stdout",
     "output_type": "stream",
     "text": [
      "Alexander, Everett\n",
      "Bryan, Monika\n",
      "Cindy, John\n",
      "Crystal, Swathi\n",
      "Daniel G, Miles\n",
      "Daniel T, Timothy\n",
      "Eric, Srikanth\n",
      "Harry, Tetyana\n",
      "Justin, Yeongcheon\n"
     ]
    }
   ],
   "source": [
    "cpairs(classmates, 4)"
   ]
  },
  {
   "cell_type": "code",
   "execution_count": 7,
   "metadata": {
    "collapsed": false
   },
   "outputs": [
    {
     "name": "stdout",
     "output_type": "stream",
     "text": [
      " Alexander, Miles\n",
      "Bryan, Harry\n",
      "Cindy, Srikanth\n",
      "Crystal, Justin\n",
      "Daniel G, Tetyana\n",
      "Daniel T, Monika\n",
      "Eric, Yeongcheon\n",
      "Everett, Swathi\n",
      "Harry, Bryan\n"
     ]
    }
   ],
   "source": [
    "cpairs(classmates, 5)"
   ]
  },
  {
   "cell_type": "code",
   "execution_count": 33,
   "metadata": {
    "collapsed": false
   },
   "outputs": [
    {
     "name": "stdout",
     "output_type": "stream",
     "text": [
      "Cindy, Miles\n",
      "Alexander, DanielG\n",
      "Bryan, Crystal\n",
      "DanielT, Yeongcheon\n",
      "Eric, Timothy\n",
      "Everett, Tetyana\n",
      "Harry, Swathi\n",
      "John, Srikanth\n",
      "Justin, Monika\n"
     ]
    }
   ],
   "source": [
    "cpairs(classmates, 11)"
   ]
  },
  {
   "cell_type": "code",
   "execution_count": null,
   "metadata": {
    "collapsed": false
   },
   "outputs": [],
   "source": []
  },
  {
   "cell_type": "code",
   "execution_count": null,
   "metadata": {
    "collapsed": true
   },
   "outputs": [],
   "source": []
  }
 ],
 "metadata": {
  "kernelspec": {
   "display_name": "Python 2",
   "language": "python",
   "name": "python2"
  },
  "language_info": {
   "codemirror_mode": {
    "name": "ipython",
    "version": 2
   },
   "file_extension": ".py",
   "mimetype": "text/x-python",
   "name": "python",
   "nbconvert_exporter": "python",
   "pygments_lexer": "ipython2",
   "version": "2.7.10"
  }
 },
 "nbformat": 4,
 "nbformat_minor": 0
}
