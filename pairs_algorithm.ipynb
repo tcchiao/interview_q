{
 "cells": [
  {
   "cell_type": "code",
   "execution_count": 3,
   "metadata": {
    "collapsed": true
   },
   "outputs": [],
   "source": [
    "import numpy as np\n",
    "\n",
    "classmates = ['Alexander','Bryan','Cindy','Crystal','DanielG','DanielT','Eric','Everett','Harry','John','Justin','Miles','Monika','Srikanth','Swathi','Tetyana','Timothy','Yeongcheon']\n",
    "\n",
    "def pairs(classmates, day=1):\n",
    "    classmates.sort()\n",
    "    if day > 4:\n",
    "        day += 1\n",
    "    for ind, value in enumerate(classmates):\n",
    "        if ind%2==False and day*2 <= len(classmates):\n",
    "            print value + ' *PAIR* ' + classmates[(ind-1+day*2)%len(classmates)]\n",
    "        elif ind*2 < len(classmates) and day*2 > len(classmates) and day-10%len(classmates)!=(ind+day%10)%len(classmates): \n",
    "            print classmates[(ind+day%10)%len(classmates)] + ' *PAIR* ' + classmates[(len(classmates)-ind+day%10)%len(classmates)]\n",
    "        elif day-10%len(classmates)==(ind+day%10)%len(classmates):\n",
    "            print classmates[(ind+day%10)%len(classmates)] + ' *PAIR* ' + classmates[(ind+9+day%10)%len(classmates)] "
   ]
  },
  {
   "cell_type": "code",
   "execution_count": 56,
   "metadata": {
    "collapsed": false
   },
   "outputs": [
    {
     "name": "stdout",
     "output_type": "stream",
     "text": [
      "Harry *PAIR* Yeongcheon\n",
      "John *PAIR* Everett\n",
      "Justin *PAIR* Eric\n",
      "Miles *PAIR* Daniel T\n",
      "Monika *PAIR* Daniel G\n",
      "Srikanth *PAIR* Crystal\n",
      "Swathi *PAIR* Cindy\n",
      "Tetyana *PAIR* Bryan\n",
      "Timothy *PAIR* Alexander\n"
     ]
    }
   ],
   "source": [
    "pairs(classmates, 17)"
   ]
  },
  {
   "cell_type": "code",
   "execution_count": 58,
   "metadata": {
    "collapsed": false
   },
   "outputs": [],
   "source": [
    "def cpairs(classmates, day):\n",
    "    classmates.sort()\n",
    "    n = len(classmates)\n",
    "    mask = np.ones(n, dtype=bool)  # initiate a mask to indicate who has or has not been paired\n",
    "    day = (day-1)%(n-1)  # start day count from 0 and repeat pairings if day > (n-1)\n",
    "    \n",
    "    if day <= n/2:\n",
    "        day += day/(n/4)  # skip the day when people pair across\n",
    "        for i in xrange(n):\n",
    "            if mask[i]:\n",
    "                if i%2 == 0:\n",
    "                    print classmates[i] + ', ' + classmates[(i+1+day*2)%n]\n",
    "                    mask[i], mask[(i+1+day*2)%n] = 0, 0\n",
    "                else:\n",
    "                    print classmates[i] + ', ' + classmates[(i-1-day*2)%n]\n",
    "                    mask[i], mask[(i-1-day*2)%n] = 0, 0\n",
    "    \n",
    "    elif day >= n/2:\n",
    "        head = day - n/2 +1 # marks the person pairing across\n",
    "        for i in xrange(n):\n",
    "            if mask[i]:\n",
    "                if i == head:\n",
    "                    print classmates[head] + ', ' + classmates[head+(n/2)]\n",
    "                    mask[head], mask[head+(n/2)] = 0, 0\n",
    "                else:\n",
    "                    print classmates[i] + ', ' + classmates[(2*head+n-i)%n]\n",
    "                    mask[i], mask[(2*head+n-i)%n] = 0, 0\n"
   ]
  },
  {
   "cell_type": "code",
   "execution_count": 13,
   "metadata": {
    "collapsed": true
   },
   "outputs": [],
   "source": [
    "classmates = ['Alexander','Bryan','Cindy','Crystal','Daniel G','Daniel T','Eric','Everett','Harry','John','Justin','Miles','Monika','Srikanth','Swathi','Tetyana','Timothy','Yeongcheon']\n"
   ]
  },
  {
   "cell_type": "code",
   "execution_count": 40,
   "metadata": {
    "collapsed": false
   },
   "outputs": [
    {
     "name": "stdout",
     "output_type": "stream",
     "text": [
      "Alexander, Daniel T\n",
      "Bryan, Swathi\n",
      "Cindy, Everett\n",
      "Daniel G, John\n",
      "Eric, Miles\n",
      "Harry, Srikanth\n",
      "Justin, Tetyana\n",
      "Monika, Yeongcheon\n",
      "Swathi, Bryan\n"
     ]
    }
   ],
   "source": [
    "cpairs(classmates, 3)"
   ]
  },
  {
   "cell_type": "code",
   "execution_count": 41,
   "metadata": {
    "collapsed": false
   },
   "outputs": [
    {
     "name": "stdout",
     "output_type": "stream",
     "text": [
      "Alexander, Everett\n",
      "Bryan, Monika\n",
      "Cindy, John\n",
      "Crystal, Swathi\n",
      "Daniel G, Miles\n",
      "Eric, Srikanth\n",
      "Harry, Tetyana\n",
      "Justin, Yeongcheon\n",
      "Monika, Bryan\n"
     ]
    }
   ],
   "source": [
    "cpairs(classmates, 4)"
   ]
  },
  {
   "cell_type": "code",
   "execution_count": 44,
   "metadata": {
    "collapsed": false
   },
   "outputs": [
    {
     "name": "stdout",
     "output_type": "stream",
     "text": [
      "Alexander, Miles\n",
      "Bryan, Harry\n",
      "Cindy, Srikanth\n",
      "Crystal, Justin\n",
      "Daniel G, Tetyana\n",
      "Daniel T, Monika\n",
      "Eric, Yeongcheon\n",
      "Everett, Swathi\n",
      "Harry, Bryan\n"
     ]
    }
   ],
   "source": [
    "cpairs(classmates, 5)"
   ]
  },
  {
   "cell_type": "code",
   "execution_count": 60,
   "metadata": {
    "collapsed": false
   },
   "outputs": [
    {
     "name": "stdout",
     "output_type": "stream",
     "text": [
      "Alexander, Crystal\n",
      "Bryan, Timothy\n",
      "Cindy, Daniel T\n",
      "Daniel G, Everett\n",
      "Eric, John\n",
      "Harry, Miles\n",
      "Justin, Srikanth\n",
      "Monika, Tetyana\n",
      "Swathi, Yeongcheon\n"
     ]
    }
   ],
   "source": [
    "cpairs(classmates, 19)"
   ]
  },
  {
   "cell_type": "code",
   "execution_count": null,
   "metadata": {
    "collapsed": false
   },
   "outputs": [],
   "source": []
  },
  {
   "cell_type": "code",
   "execution_count": null,
   "metadata": {
    "collapsed": true
   },
   "outputs": [],
   "source": [
    "    elif day > n/4 and day < n/2:\n",
    "        for i in xrange(n):\n",
    "            if mask[i]:\n",
    "                if i%2 == 0:\n",
    "                    print classmates[i] + ', ' + classmates[(i+1+day*2)%n]\n",
    "                    mask[i], mask[(i-1+day*2)%n] = 0, 0\n",
    "                else:\n",
    "                    print classmates[i] + ', ' + classmates[(i-1-day*2)%n]\n",
    "                    mask[i], mask[(i+1-day*2)%n] = 0, 0"
   ]
  }
 ],
 "metadata": {
  "kernelspec": {
   "display_name": "Python 2",
   "language": "python",
   "name": "python2"
  },
  "language_info": {
   "codemirror_mode": {
    "name": "ipython",
    "version": 2
   },
   "file_extension": ".py",
   "mimetype": "text/x-python",
   "name": "python",
   "nbconvert_exporter": "python",
   "pygments_lexer": "ipython2",
   "version": "2.7.10"
  }
 },
 "nbformat": 4,
 "nbformat_minor": 0
}
